{
 "cells": [
  {
   "cell_type": "code",
   "execution_count": 3,
   "metadata": {},
   "outputs": [],
   "source": [
    "import pandas as pd\n",
    "from openpyxl import Workbook\n",
    "from openpyxl.styles import Font, Alignment"
   ]
  },
  {
   "cell_type": "code",
   "execution_count": 4,
   "metadata": {},
   "outputs": [],
   "source": [
    "\n",
    "def create_budget_template(filename=\"Budget_Template.xlsx\"):\n",
    "    # Create a new workbook and select active worksheet\n",
    "    wb = Workbook()\n",
    "    ws = wb.active\n",
    "    ws.title = \"Monthly Budget\"\n",
    "\n",
    "    # Define headers\n",
    "    headers = [\"Category\", \"Description\", \"Planned Amount\", \"Actual Amount\", \"Difference\"]\n",
    "    sections = [\n",
    "        (\"Income\", [\"Salary\", \"Freelance\", \"Investments\", \"Other\"]),\n",
    "        (\"Fixed Expenses\", [\"Rent/Mortgage\", \"Utilities\", \"Internet\", \"Insurance\", \"Loan Payments\"]),\n",
    "        (\"Variable Expenses\", [\"Groceries\", \"Dining Out\", \"Entertainment\", \"Transport\", \"Shopping\"]),\n",
    "        (\"Savings & Investments\", [\"Emergency Fund\", \"Retirement\", \"Investments\", \"Other\"])\n",
    "    ]\n",
    "    \n",
    "    # Write headers\n",
    "    ws.append(headers)\n",
    "    for col in range(1, len(headers) + 1):\n",
    "        ws.cell(row=1, column=col).font = Font(bold=True)\n",
    "        ws.cell(row=1, column=col).alignment = Alignment(horizontal=\"center\")\n",
    "    \n",
    "    # Populate sections with predefined categories\n",
    "    row_num = 2\n",
    "    for section, categories in sections:\n",
    "        ws.append([section])  # Section header\n",
    "        ws.cell(row=row_num, column=1).font = Font(bold=True)\n",
    "        for category in categories:\n",
    "            ws.append([\"\", category, \"\", \"\", \"\"])\n",
    "            row_num += 1\n",
    "        row_num += 1  # Add a blank row for spacing\n",
    "    \n",
    "    # Summary section\n",
    "    summary_start = row_num\n",
    "    ws.append([\"Summary\"])\n",
    "    ws.cell(row=summary_start, column=1).font = Font(bold=True)\n",
    "    summary_labels = [\"Total Income\", \"Total Expenses\", \"Total Savings\", \"Net Balance\"]\n",
    "    for label in summary_labels:\n",
    "        ws.append([\"\", label, \"\", \"\", \"\"])\n",
    "    \n",
    "    # Save the workbook\n",
    "    wb.save(filename)\n",
    "    print(f\"Budget template saved as {filename}\")\n",
    "\n",
    "\n"
   ]
  },
  {
   "cell_type": "code",
   "execution_count": 5,
   "metadata": {},
   "outputs": [
    {
     "name": "stdout",
     "output_type": "stream",
     "text": [
      "Budget template saved as Budget_Template.xlsx\n"
     ]
    }
   ],
   "source": [
    "# Generate the budget template\n",
    "create_budget_template()"
   ]
  }
 ],
 "metadata": {
  "kernelspec": {
   "display_name": ".venv",
   "language": "python",
   "name": "python3"
  },
  "language_info": {
   "codemirror_mode": {
    "name": "ipython",
    "version": 3
   },
   "file_extension": ".py",
   "mimetype": "text/x-python",
   "name": "python",
   "nbconvert_exporter": "python",
   "pygments_lexer": "ipython3",
   "version": "3.11.9"
  }
 },
 "nbformat": 4,
 "nbformat_minor": 2
}
